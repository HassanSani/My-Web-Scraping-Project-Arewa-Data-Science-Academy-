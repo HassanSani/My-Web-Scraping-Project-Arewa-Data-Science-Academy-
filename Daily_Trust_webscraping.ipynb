{
 "cells": [
  {
   "cell_type": "code",
   "execution_count": 6,
   "id": "4497eac4",
   "metadata": {},
   "outputs": [
    {
     "name": "stdout",
     "output_type": "stream",
     "text": [
      "The Independent National Electoral Commissioner (INEC) has asked Barr. Yusuf Hudu Ari, the Resident Electoral Commissioner (REC) for Adamawa State, to stay away from office…\n",
      "The Independent National Electoral Commissioner (INEC) has asked Barr. Yusuf Hudu Ari, the Resident Electoral Commissioner (REC) for Adamawa State, to stay away from office till further notice.\n",
      "This is contained in a circular to the embattled REC signed by Mrs. Rose Oriaran-Anthony, Secretary to the Commission (INEC).\n",
      "It was titled: ‘Commission’s Directive to stay away from INEC, Adamawa State’.\n",
      "“I hereby convey the commission’s decision that you (Barr. Hudu Yunusa Ari), Resident Electoral Commissioner, Adamawa State should stay away from the commission’s office in Adamawa State immediately until further notice.\n",
      "“The Administrative Secretary has been directed to take full charge of INEC, Adamawa State with immediate effect,” the circular said.\n",
      "Daily Trust reports that Ari, on Sunday morning controversially declared Senator Aisha Dahiru, aka Binani, of the All Progressives Congress (APC) as winner of the Saturday’s supplementary election in the state election.\n",
      "Incumbent Governor Ahmadu Fintiri of the People Democratic Party (PDP) and others had protested the development.\n",
      "INEC, however, nullified the declaration and summoned the REC and other officials to the commission’s headquarters.\n",
      " \n",
      "\n",
      "\n",
      "\n",
      "\t\t\t\tNigerians can now earn US Dollars by acquiring premium domain names, most clients earn about $7,000 to $10,000, all paid in US Dollars. Click here to learn how to start.\t\n",
      "\t\t\t\n",
      "\n",
      "\n"
     ]
    }
   ],
   "source": [
    "import requests\n",
    "from bs4 import BeautifulSoup\n",
    "page = requests.get('https://dailytrust.com/breaking-inec-suspends-adamawa-rec-for-declaring-binani-winner/') # getting page via request\n",
    "soup = BeautifulSoup(page.content, 'html.parser') # parsing content using BeautifulSoup\n",
    "paragraphs = soup.find_all('p')\n",
    "for paragraph in paragraphs:\n",
    "    print(paragraph.get_text())"
   ]
  },
  {
   "cell_type": "code",
   "execution_count": null,
   "id": "062f6171",
   "metadata": {},
   "outputs": [],
   "source": []
  }
 ],
 "metadata": {
  "kernelspec": {
   "display_name": "Python 3 (ipykernel)",
   "language": "python",
   "name": "python3"
  },
  "language_info": {
   "codemirror_mode": {
    "name": "ipython",
    "version": 3
   },
   "file_extension": ".py",
   "mimetype": "text/x-python",
   "name": "python",
   "nbconvert_exporter": "python",
   "pygments_lexer": "ipython3",
   "version": "3.10.9"
  }
 },
 "nbformat": 4,
 "nbformat_minor": 5
}
